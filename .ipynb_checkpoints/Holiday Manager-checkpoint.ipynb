{
 "cells": [
  {
   "cell_type": "code",
   "execution_count": 8,
   "id": "5f08166b",
   "metadata": {},
   "outputs": [],
   "source": [
    "import datetime\n",
    "import json\n",
    "from bs4 import BeautifulSoup\n",
    "import requests\n",
    "from dataclasses import dataclass"
   ]
  },
  {
   "cell_type": "code",
   "execution_count": 86,
   "id": "e26421a7",
   "metadata": {},
   "outputs": [],
   "source": [
    "class Holiday:\n",
    "\n",
    "    def __init__(self,name, date):\n",
    "        if (not isinstance(name, str)) or (not isinstance(date, datetime.date)):\n",
    "            raise('Incorrect input type')\n",
    "        else:\n",
    "            self.name = name\n",
    "            self.date = date\n",
    "    \n",
    "    def __str__(self):\n",
    "        return f'{self.name} is on {self.date}'\n",
    "        # String output\n",
    "        # Holiday output when printed."
   ]
  },
  {
   "cell_type": "code",
   "execution_count": 87,
   "id": "29a32673",
   "metadata": {},
   "outputs": [
    {
     "name": "stdout",
     "output_type": "stream",
     "text": [
      "NewYears is on 2019-01-01\n",
      "2019-01-01\n",
      "NewYears\n",
      "NewYears is on 2019-01-01\n"
     ]
    }
   ],
   "source": [
    "jan1 = Holiday('NewYears', datetime.date(2019, 1, 1))\n",
    "print(jan1)\n",
    "print(jan1.date)\n",
    "print(jan1.name)\n",
    "print(jan1.__str__())"
   ]
  },
  {
   "cell_type": "code",
   "execution_count": 41,
   "id": "895f0d01",
   "metadata": {},
   "outputs": [],
   "source": []
  },
  {
   "cell_type": "code",
   "execution_count": 78,
   "id": "cbe57b90",
   "metadata": {},
   "outputs": [],
   "source": []
  },
  {
   "cell_type": "code",
   "execution_count": 107,
   "id": "681e1a07",
   "metadata": {},
   "outputs": [],
   "source": [
    "@dataclass\n",
    "class HolidayList():\n",
    "    def __init__(self):\n",
    "        self.innerHolidays = []\n",
    "   \n",
    "#     def __str__(self):\n",
    "#         for i in self.innerHoliday:\n",
    "#             done = f'The holidays that are in the list are {self.innerHolidays[0][0]}.'\n",
    "#             return done\n",
    "\n",
    "#     holidays: list\n",
    "#     now: datetime\n",
    "        \n",
    "        \n",
    "    def addHoliday(self,holidayObj):\n",
    "        if (not isinstance(holidayObj, Holiday)):\n",
    "            raise('This is not a holiday')        \n",
    "#         # Make sure holidayObj is an Holiday Object by checking the type\n",
    "        else:\n",
    "            self.innerHolidays.append(holidayObj)\n",
    "#         # Use innerHolidays.append(holidayObj) to add holiday\n",
    "#         # print to the user that you added a holiday\n",
    "        return f'You have added {holidayObj} as a holiday!'"
   ]
  },
  {
   "cell_type": "code",
   "execution_count": 112,
   "id": "56a107b5",
   "metadata": {},
   "outputs": [
    {
     "name": "stdout",
     "output_type": "stream",
     "text": [
      "NewYears is on 2019-01-01\n"
     ]
    },
    {
     "ename": "TypeError",
     "evalue": "__init__() missing 1 required positional argument: 'date'",
     "output_type": "error",
     "traceback": [
      "\u001b[1;31m---------------------------------------------------------------------------\u001b[0m",
      "\u001b[1;31mTypeError\u001b[0m                                 Traceback (most recent call last)",
      "\u001b[1;32m<ipython-input-112-e136dc98d323>\u001b[0m in \u001b[0;36m<module>\u001b[1;34m\u001b[0m\n\u001b[0;32m      1\u001b[0m \u001b[0mprint\u001b[0m\u001b[1;33m(\u001b[0m\u001b[0mjan1\u001b[0m\u001b[1;33m)\u001b[0m\u001b[1;33m\u001b[0m\u001b[1;33m\u001b[0m\u001b[0m\n\u001b[1;32m----> 2\u001b[1;33m \u001b[0mh_list\u001b[0m \u001b[1;33m=\u001b[0m \u001b[0mHolidayList\u001b[0m\u001b[1;33m(\u001b[0m\u001b[1;33m[\u001b[0m\u001b[1;33m]\u001b[0m\u001b[1;33m)\u001b[0m\u001b[1;33m\u001b[0m\u001b[1;33m\u001b[0m\u001b[0m\n\u001b[0m\u001b[0;32m      3\u001b[0m \u001b[0mh_list\u001b[0m\u001b[1;33m.\u001b[0m\u001b[0maddHoliday\u001b[0m\u001b[1;33m(\u001b[0m\u001b[0mHoliday\u001b[0m\u001b[1;33m(\u001b[0m\u001b[1;34m'Valentines Day'\u001b[0m\u001b[1;33m,\u001b[0m \u001b[0mdatetime\u001b[0m\u001b[1;33m.\u001b[0m\u001b[0mdate\u001b[0m\u001b[1;33m(\u001b[0m\u001b[1;36m2021\u001b[0m\u001b[1;33m,\u001b[0m \u001b[1;36m2\u001b[0m\u001b[1;33m,\u001b[0m \u001b[1;36m14\u001b[0m\u001b[1;33m)\u001b[0m\u001b[1;33m)\u001b[0m\u001b[1;33m)\u001b[0m\u001b[1;33m\u001b[0m\u001b[1;33m\u001b[0m\u001b[0m\n",
      "\u001b[1;31mTypeError\u001b[0m: __init__() missing 1 required positional argument: 'date'"
     ]
    }
   ],
   "source": [
    "print(jan1)\n",
    "h_list = HolidayList([])\n",
    "h_list.addHoliday(Holiday('Valentines Day', datetime.date(2021, 2, 14)))"
   ]
  },
  {
   "cell_type": "code",
   "execution_count": 106,
   "id": "a546db11",
   "metadata": {},
   "outputs": [
    {
     "ename": "TypeError",
     "evalue": "__str__ returned non-string (type list)",
     "output_type": "error",
     "traceback": [
      "\u001b[1;31m---------------------------------------------------------------------------\u001b[0m",
      "\u001b[1;31mTypeError\u001b[0m                                 Traceback (most recent call last)",
      "\u001b[1;32m<ipython-input-106-5a9a7b130173>\u001b[0m in \u001b[0;36m<module>\u001b[1;34m\u001b[0m\n\u001b[1;32m----> 1\u001b[1;33m \u001b[0mprint\u001b[0m\u001b[1;33m(\u001b[0m\u001b[0mh_list\u001b[0m\u001b[1;33m)\u001b[0m\u001b[1;33m\u001b[0m\u001b[1;33m\u001b[0m\u001b[0m\n\u001b[0m\u001b[0;32m      2\u001b[0m \u001b[1;31m# for i in h_list.innerHoliday:\u001b[0m\u001b[1;33m\u001b[0m\u001b[1;33m\u001b[0m\u001b[1;33m\u001b[0m\u001b[0m\n\u001b[0;32m      3\u001b[0m \u001b[1;31m#     done = f'The holidays that are in the list are {self.innerHolidays[i][0]}.'\u001b[0m\u001b[1;33m\u001b[0m\u001b[1;33m\u001b[0m\u001b[1;33m\u001b[0m\u001b[0m\n\u001b[0;32m      4\u001b[0m \u001b[1;31m# print(done)\u001b[0m\u001b[1;33m\u001b[0m\u001b[1;33m\u001b[0m\u001b[1;33m\u001b[0m\u001b[0m\n",
      "\u001b[1;31mTypeError\u001b[0m: __str__ returned non-string (type list)"
     ]
    }
   ],
   "source": [
    "print(h_list)\n",
    "# for i in h_list.innerHoliday:\n",
    "#     done = f'The holidays that are in the list are {self.innerHolidays[i][0]}.'\n",
    "# print(done)"
   ]
  },
  {
   "cell_type": "code",
   "execution_count": 13,
   "id": "3d74c79d",
   "metadata": {},
   "outputs": [],
   "source": [
    "NewYears = Holiday('NewYears', '01/01')"
   ]
  },
  {
   "cell_type": "code",
   "execution_count": null,
   "id": "e3446246",
   "metadata": {},
   "outputs": [],
   "source": []
  }
 ],
 "metadata": {
  "kernelspec": {
   "display_name": "Python 3",
   "language": "python",
   "name": "python3"
  },
  "language_info": {
   "codemirror_mode": {
    "name": "ipython",
    "version": 3
   },
   "file_extension": ".py",
   "mimetype": "text/x-python",
   "name": "python",
   "nbconvert_exporter": "python",
   "pygments_lexer": "ipython3",
   "version": "3.8.8"
  }
 },
 "nbformat": 4,
 "nbformat_minor": 5
}
